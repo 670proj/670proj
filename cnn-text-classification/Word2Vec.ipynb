{
 "cells": [
  {
   "cell_type": "code",
   "execution_count": 1,
   "metadata": {},
   "outputs": [
    {
     "name": "stdout",
     "output_type": "stream",
     "text": [
      "[nltk_data] Downloading package stopwords to /Users/HJK-\n",
      "[nltk_data]     BD/nltk_data...\n",
      "[nltk_data]   Package stopwords is already up-to-date!\n"
     ]
    }
   ],
   "source": [
    "import csv\n",
    "import pandas\n",
    "import urllib\n",
    "import json\n",
    "import time\n",
    "import operator\n",
    "import warnings\n",
    "warnings.filterwarnings(action='ignore', category=UserWarning, module='gensim')\n",
    "import gensim\n",
    "import numpy as np\n",
    "from scipy import sparse\n",
    "from sklearn.metrics import classification_report\n",
    "import nltk\n",
    "nltk.download('stopwords')\n",
    "from nltk.corpus import stopwords\n",
    "import math\n",
    "import re\n",
    "import string\n",
    "import pickle"
   ]
  },
  {
   "cell_type": "code",
   "execution_count": 2,
   "metadata": {
    "collapsed": true
   },
   "outputs": [],
   "source": [
    "class Textloader(object):\n",
    "    def __init__(self, filename='songcleaned2.csv',embedding_size=100):\n",
    "        self.name = filename\n",
    "        self.embedding_size = embedding_size\n",
    "    \n",
    "    def __iter__(self):\n",
    "        with open(self.name, 'r') as f:\n",
    "            f_csv = csv.reader(f)\n",
    "            headers = next(f_csv)\n",
    "            regex = re.compile('[%s]' % re.escape(string.punctuation))\n",
    "            for row in f_csv:\n",
    "                lyric = word_list_clean(row[2].replace(\"\\n\",\"\").split(\" \"), regex)\n",
    "                lyric = [x for x in lyric if x != '']\n",
    "                yield lyric\n",
    "                \n",
    "def word_list_clean(word_list,regex):\n",
    "    clean_list = []\n",
    "    for word in word_list:\n",
    "        word = word.lower()\n",
    "        word = regex.sub('', word)\n",
    "        clean_list.append(word)\n",
    "    return(clean_list)"
   ]
  },
  {
   "cell_type": "code",
   "execution_count": 3,
   "metadata": {},
   "outputs": [
    {
     "name": "stdout",
     "output_type": "stream",
     "text": [
      "ok\n"
     ]
    }
   ],
   "source": [
    "# loader = Textloader()\n",
    "# model = gensim.models.Word2Vec(loader, workers=4,size=loader.embedding_size, window=5, min_count=2)\n",
    "# model.save('word2vector3.model')\n",
    "# print('ok')"
   ]
  },
  {
   "cell_type": "code",
   "execution_count": 4,
   "metadata": {},
   "outputs": [
    {
     "name": "stdout",
     "output_type": "stream",
     "text": [
      "和love最相关的词有：\n",
      "\n",
      "oh 0.5569515228271484\n",
      "true 0.5471696853637695\n",
      "you 0.5312179327011108\n",
      "baby 0.5250938534736633\n",
      "me 0.5224686861038208\n",
      "loving 0.520522952079773\n",
      "life 0.5177774429321289\n",
      "it 0.506965160369873\n",
      "hope 0.5009456276893616\n",
      "yeah 0.4938737154006958\n",
      "that 0.49084243178367615\n",
      "believe 0.4901423454284668\n",
      "lovin 0.47710004448890686\n",
      "lover 0.4753359854221344\n",
      "christess 0.47528076171875\n",
      "need 0.469929039478302\n",
      "know 0.4580895006656647\n",
      "heart 0.45634105801582336\n",
      "yes 0.4467881917953491\n",
      "forever 0.4463220536708832\n",
      "--------\n",
      "\n"
     ]
    }
   ],
   "source": [
    "y2 = model.wv.most_similar(\"love\", topn=20)  # 20个最相关的\n",
    "print(u\"和love最相关的词有：\\n\")\n",
    "for item in y2:\n",
    "    print( item[0], item[1])\n",
    "print( \"--------\\n\")"
   ]
  },
  {
   "cell_type": "code",
   "execution_count": 5,
   "metadata": {},
   "outputs": [],
   "source": [
    "def to_matrix(word_list):\n",
    "    matrix = []\n",
    "    for word in word_list:\n",
    "        if word in model.wv.vocab:\n",
    "            matrix.append(np.ndarray.tolist(model.wv.__getitem__(word)))\n",
    "    return matrix\n",
    "\n",
    "def word_vector(filename):\n",
    "    with open(filename, 'r') as f:\n",
    "            f_csv = csv.reader(f)\n",
    "            headers = next(f_csv)\n",
    "            regex = re.compile('[%s]' % re.escape(string.punctuation))\n",
    "            count = 0\n",
    "            for row in f_csv:\n",
    "                lyric = word_list_clean(row[2].replace(\"\\n\",\"\").split(\" \"), regex)\n",
    "                lyric = [x for x in lyric if x != '']\n",
    "                matrix = to_matrix(lyric)\n",
    "                wfilename = \"matrix3/\"+str(count)+\".txt\"\n",
    "                file_writer(matrix, wfilename)\n",
    "                count += 1\n",
    "                \n",
    "def file_writer(data, filename):\n",
    "     with open(filename, \"wb\") as fp:   #Pickling\n",
    "        pickle.dump(data, fp)\n",
    "\n",
    "model = gensim.models.Word2Vec.load('word2vector3.model')\n",
    "word_vector(\"songcleaned2.csv\")"
   ]
  },
  {
   "cell_type": "code",
   "execution_count": null,
   "metadata": {
    "collapsed": true
   },
   "outputs": [],
   "source": [
    "def model(data, train=False):\n",
    "    \"\"\"The Model definition.\"\"\"\n",
    "    # 2D convolution, with 'SAME' padding (i.e. the output feature map has\n",
    "    # the same size as the input). Note that {strides} is a 4D array whose\n",
    "    # shape matches the data layout: [image index, y, x, depth].\n",
    "    conv = tf.nn.conv2d(data,\n",
    "                        conv1_weights,\n",
    "                        strides=[1, 1, 1, 1],\n",
    "                        padding='SAME')\n",
    "    # Bias and rectified linear non-linearity.\n",
    "    relu = tf.nn.relu(tf.nn.bias_add(conv, conv1_biases))\n",
    "    # Max pooling. The kernel size spec {ksize} also follows the layout of\n",
    "    # the data. Here we have a pooling window of 2, and a stride of 2.\n",
    "    pool = tf.nn.max_pool(relu,\n",
    "                          ksize=[1, 2, 2, 1],\n",
    "                          strides=[1, 2, 2, 1],\n",
    "                          padding='SAME')\n",
    "    conv = tf.nn.conv2d(pool,\n",
    "                        conv2_weights,\n",
    "                        strides=[1, 1, 1, 1],\n",
    "                        padding='SAME')\n",
    "    relu = tf.nn.relu(tf.nn.bias_add(conv, conv2_biases))\n",
    "    pool = tf.nn.max_pool(relu,\n",
    "                          ksize=[1, 2, 2, 1],\n",
    "                          strides=[1, 2, 2, 1],\n",
    "                          padding='SAME')\n",
    "    # Reshape the feature map cuboid into a 2D matrix to feed it to the\n",
    "    # fully connected layers.\n",
    "    pool_shape = pool.get_shape().as_list()\n",
    "    reshape = tf.reshape(\n",
    "        pool,\n",
    "        [pool_shape[0], pool_shape[1] * pool_shape[2] * pool_shape[3]])\n",
    "    # Fully connected layer. Note that the '+' operation automatically\n",
    "    # broadcasts the biases.\n",
    "    hidden = tf.nn.relu(tf.matmul(reshape, fc1_weights) + fc1_biases)\n",
    "    # Add a 50% dropout during training only. Dropout also scales\n",
    "    # activations such that no rescaling is needed at evaluation time.\n",
    "    if train:\n",
    "        hidden = tf.nn.dropout(hidden, 0.5, seed=SEED)\n",
    "    return tf.matmul(hidden, fc2_weights) + fc2_biases\n",
    "\n",
    "# Training computation: logits + cross-entropy loss.\n",
    "    logits = model(train_data_node, True)\n",
    "    loss = tf.reduce_mean(tf.nn.sparse_softmax_cross_entropy_with_logits(\n",
    "      labels=train_labels_node, logits=logits))\n",
    "\n",
    "    # L2 regularization for the fully connected parameters.\n",
    "    regularizers = (tf.nn.l2_loss(fc1_weights) + tf.nn.l2_loss(fc1_biases) +\n",
    "                  tf.nn.l2_loss(fc2_weights) + tf.nn.l2_loss(fc2_biases))\n",
    "    # Add the regularization term to the loss.\n",
    "    loss += 5e-4 * regularizers\n",
    "\n",
    "    # Optimizer: set up a variable that's incremented once per batch and\n",
    "    # controls the learning rate decay.\n",
    "    batch = tf.Variable(0, dtype=data_type())\n",
    "    # Decay once per epoch, using an exponential schedule starting at 0.01.\n",
    "    learning_rate = tf.train.exponential_decay(\n",
    "      0.01,                # Base learning rate.\n",
    "      batch * BATCH_SIZE,  # Current index into the dataset.\n",
    "      train_size,          # Decay step.\n",
    "      0.95,                # Decay rate.\n",
    "      staircase=True)\n",
    "    # Use simple momentum for the optimization.\n",
    "    optimizer = tf.train.MomentumOptimizer(learning_rate,\n",
    "                                         0.9).minimize(loss,\n",
    "                                                       global_step=batch)\n",
    "\n",
    "    # Predictions for the current training minibatch.\n",
    "    train_prediction = tf.nn.softmax(logits)\n",
    "\n",
    "    # Predictions for the test and validation, which we'll compute less often.\n",
    "    eval_prediction = tf.nn.softmax(model(eval_data))"
   ]
  },
  {
   "cell_type": "code",
   "execution_count": null,
   "metadata": {
    "collapsed": true
   },
   "outputs": [],
   "source": [
    "def eval_in_batches(data, sess):\n",
    "    \"\"\"Get all predictions for a dataset by running it in small batches.\"\"\"\n",
    "    size = data.shape[0]\n",
    "    if size < EVAL_BATCH_SIZE:\n",
    "        raise ValueError(\"batch size for evals larger than dataset: %d\" % size)\n",
    "    predictions = numpy.ndarray(shape=(size, NUM_LABELS), dtype=numpy.float32)\n",
    "    for begin in xrange(0, size, EVAL_BATCH_SIZE):\n",
    "        end = begin + EVAL_BATCH_SIZE\n",
    "        if end <= size:\n",
    "            predictions[begin:end, :] = sess.run(\n",
    "                eval_prediction,\n",
    "                feed_dict={eval_data: data[begin:end, ...]})\n",
    "        else:\n",
    "            batch_predictions = sess.run(\n",
    "                eval_prediction,\n",
    "                feed_dict={eval_data: data[-EVAL_BATCH_SIZE:, ...]})\n",
    "            predictions[begin:, :] = batch_predictions[begin - size:, :]\n",
    "    return predictions"
   ]
  }
 ],
 "metadata": {
  "kernelspec": {
   "display_name": "Python 3",
   "language": "python",
   "name": "python3"
  },
  "language_info": {
   "codemirror_mode": {
    "name": "ipython",
    "version": 3
   },
   "file_extension": ".py",
   "mimetype": "text/x-python",
   "name": "python",
   "nbconvert_exporter": "python",
   "pygments_lexer": "ipython3",
   "version": "3.5.2"
  }
 },
 "nbformat": 4,
 "nbformat_minor": 2
}
